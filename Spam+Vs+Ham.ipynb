{
 "cells": [
  {
   "cell_type": "markdown",
   "metadata": {},
   "source": [
    "This is an analysis of the Collection of SMS. This contains two fields one dependent variable and other other actual text message."
   ]
  },
  {
   "cell_type": "code",
   "execution_count": 105,
   "metadata": {
    "collapsed": true
   },
   "outputs": [],
   "source": [
    "sms_corp<-read.csv('sms_spam.csv')"
   ]
  },
  {
   "cell_type": "code",
   "execution_count": 106,
   "metadata": {
    "collapsed": false
   },
   "outputs": [
    {
     "name": "stdout",
     "output_type": "stream",
     "text": [
      "'data.frame':\t5574 obs. of  2 variables:\n",
      " $ Type: Factor w/ 2 levels \"ham\",\"spam\": 1 1 2 1 1 2 1 1 2 2 ...\n",
      " $ Text: Factor w/ 5171 levels \"'An Amazing Quote'' - \\\"Sometimes in life its difficult to decide whats wrong!! a lie that brings a smile or the truth that bri\"| __truncated__,..: 1147 3249 1046 4278 2895 1071 977 409 4765 1282 ...\n"
     ]
    }
   ],
   "source": [
    "str(sms_corp) #getting familiar of data in data set"
   ]
  },
  {
   "cell_type": "markdown",
   "metadata": {},
   "source": [
    "Let's split the data into train and test set."
   ]
  },
  {
   "cell_type": "code",
   "execution_count": 107,
   "metadata": {
    "collapsed": true
   },
   "outputs": [],
   "source": [
    "train_set<-sms_corp[1:4179, ]\n",
    "test_set<-sms_corp[4179:5574, ]"
   ]
  },
  {
   "cell_type": "markdown",
   "metadata": {},
   "source": [
    "On both training and test sets, data preprocessing is done including the removing numbers, punctuations, whitespaces,stop words, performing stemming, changing case to Lower. In doing all first a corpus should be developed. "
   ]
  },
  {
   "cell_type": "code",
   "execution_count": 4,
   "metadata": {
    "collapsed": false
   },
   "outputs": [
    {
     "name": "stderr",
     "output_type": "stream",
     "text": [
      "Warning message:\n",
      "\"package 'tm' was built under R version 3.3.3\"Loading required package: NLP\n"
     ]
    }
   ],
   "source": [
    "library(tm)"
   ]
  },
  {
   "cell_type": "code",
   "execution_count": 108,
   "metadata": {
    "collapsed": true
   },
   "outputs": [],
   "source": [
    "sms_train_corpus<-VCorpus(VectorSource(x=train_set$Text))#Text is present in second column of the data set."
   ]
  },
  {
   "cell_type": "code",
   "execution_count": 109,
   "metadata": {
    "collapsed": false
   },
   "outputs": [
    {
     "data": {
      "text/html": [
       "'Go until jurong point, crazy.. Available only in bugis n great world la e buffet... Cine there got amore wat...'"
      ],
      "text/latex": [
       "'Go until jurong point, crazy.. Available only in bugis n great world la e buffet... Cine there got amore wat...'"
      ],
      "text/markdown": [
       "'Go until jurong point, crazy.. Available only in bugis n great world la e buffet... Cine there got amore wat...'"
      ],
      "text/plain": [
       "[1] \"Go until jurong point, crazy.. Available only in bugis n great world la e buffet... Cine there got amore wat...\""
      ]
     },
     "metadata": {},
     "output_type": "display_data"
    }
   ],
   "source": [
    "as.character(sms_train_corpus[[1]])#printing the first element in corpus"
   ]
  },
  {
   "cell_type": "code",
   "execution_count": 110,
   "metadata": {
    "collapsed": true
   },
   "outputs": [],
   "source": [
    "clean_train_corpus<-tm_map(sms_train_corpus, content_transformer(tolower))#Applying the tolower transformation"
   ]
  },
  {
   "cell_type": "code",
   "execution_count": 111,
   "metadata": {
    "collapsed": false
   },
   "outputs": [
    {
     "data": {
      "text/html": [
       "'go until jurong point, crazy.. available only in bugis n great world la e buffet... cine there got amore wat...'"
      ],
      "text/latex": [
       "'go until jurong point, crazy.. available only in bugis n great world la e buffet... cine there got amore wat...'"
      ],
      "text/markdown": [
       "'go until jurong point, crazy.. available only in bugis n great world la e buffet... cine there got amore wat...'"
      ],
      "text/plain": [
       "[1] \"go until jurong point, crazy.. available only in bugis n great world la e buffet... cine there got amore wat...\""
      ]
     },
     "metadata": {},
     "output_type": "display_data"
    }
   ],
   "source": [
    "as.character(clean_train_corpus[[1]])#Result after the applying the tolower method"
   ]
  },
  {
   "cell_type": "code",
   "execution_count": 112,
   "metadata": {
    "collapsed": true
   },
   "outputs": [],
   "source": [
    "#Since the removePunctuation method remove the punctuation and trims the space between words \n",
    "#we might loose sme information. So new function was written where punctuations are removed and replaced with \n",
    "#white space\n",
    "replacePunctuation <- function(x) {\n",
    "  gsub(\"[[:punct:]]+\", \" \", x)\n",
    "}"
   ]
  },
  {
   "cell_type": "code",
   "execution_count": 113,
   "metadata": {
    "collapsed": true
   },
   "outputs": [],
   "source": [
    "clean_train_corpus<-tm_map(clean_train_corpus, content_transformer(replacePunctuation))"
   ]
  },
  {
   "cell_type": "code",
   "execution_count": 114,
   "metadata": {
    "collapsed": false
   },
   "outputs": [
    {
     "data": {
      "text/html": [
       "<span style=white-space:pre-wrap>'go until jurong point  crazy  available only in bugis n great world la e buffet  cine there got amore wat '</span>"
      ],
      "text/latex": [
       "'go until jurong point  crazy  available only in bugis n great world la e buffet  cine there got amore wat '"
      ],
      "text/markdown": [
       "<span style=white-space:pre-wrap>'go until jurong point  crazy  available only in bugis n great world la e buffet  cine there got amore wat '</span>"
      ],
      "text/plain": [
       "[1] \"go until jurong point  crazy  available only in bugis n great world la e buffet  cine there got amore wat \""
      ]
     },
     "metadata": {},
     "output_type": "display_data"
    }
   ],
   "source": [
    "as.character(clean_train_corpus[[1]])"
   ]
  },
  {
   "cell_type": "code",
   "execution_count": 115,
   "metadata": {
    "collapsed": true
   },
   "outputs": [],
   "source": [
    "clean_train_corpus<-tm_map(clean_train_corpus, content_transformer(FUN = removeNumbers))#removing numbers\n",
    "clean_train_corpus<-tm_map(clean_train_corpus, removeWords, stopwords())#removing stop words"
   ]
  },
  {
   "cell_type": "code",
   "execution_count": 116,
   "metadata": {
    "collapsed": true
   },
   "outputs": [],
   "source": [
    "library(SnowballC)#Performing stemming and removing white spaces\n",
    "clean_train_corpus<-tm_map(clean_train_corpus, stemDocument)\n",
    "clean_train_corpus<-tm_map(clean_train_corpus, stripWhitespace)"
   ]
  },
  {
   "cell_type": "code",
   "execution_count": 117,
   "metadata": {
    "collapsed": false
   },
   "outputs": [
    {
     "data": {
      "text/html": [
       "'go jurong point crazi avail bugi n great world la e buffet cine got amor wat'"
      ],
      "text/latex": [
       "'go jurong point crazi avail bugi n great world la e buffet cine got amor wat'"
      ],
      "text/markdown": [
       "'go jurong point crazi avail bugi n great world la e buffet cine got amor wat'"
      ],
      "text/plain": [
       "[1] \"go jurong point crazi avail bugi n great world la e buffet cine got amor wat\""
      ]
     },
     "metadata": {},
     "output_type": "display_data"
    }
   ],
   "source": [
    "as.character(clean_train_corpus[[1]])"
   ]
  },
  {
   "cell_type": "code",
   "execution_count": 118,
   "metadata": {
    "collapsed": true
   },
   "outputs": [],
   "source": [
    "#Creating the Document Term matrix\n",
    "sms_train_dtm<-DocumentTermMatrix(clean_train_corpus)"
   ]
  },
  {
   "cell_type": "code",
   "execution_count": 120,
   "metadata": {
    "collapsed": false
   },
   "outputs": [],
   "source": [
    "#Labes for the corresponding text corpus\n",
    "sms_train_labels<-sms_corp[1:4179, ]$Type"
   ]
  },
  {
   "cell_type": "markdown",
   "metadata": {},
   "source": [
    "Visualizing the train set corpus"
   ]
  },
  {
   "cell_type": "code",
   "execution_count": 121,
   "metadata": {
    "collapsed": false
   },
   "outputs": [],
   "source": [
    "library(wordcloud)"
   ]
  },
  {
   "cell_type": "code",
   "execution_count": 122,
   "metadata": {
    "collapsed": false
   },
   "outputs": [
    {
     "data": {
      "image/png": "[encoded data removed]",
      "text/plain": [
       "plot without title"
      ]
     },
     "metadata": {},
     "output_type": "display_data"
    }
   ],
   "source": [
    "wordcloud(clean_train_corpus, min.freq=50, random.order = FALSE)"
   ]
  },
  {
   "cell_type": "markdown",
   "metadata": {},
   "source": [
    "Words that are bold are more frequent. Let's look the spam and ham  corpus individually"
   ]
  },
  {
   "cell_type": "code",
   "execution_count": 123,
   "metadata": {
    "collapsed": false
   },
   "outputs": [
    {
     "data": {
      "image/png": "[encoded data removed]",
      "text/plain": [
       "plot without title"
      ]
     },
     "metadata": {},
     "output_type": "display_data"
    }
   ],
   "source": [
    "spam<-subset(train_set, train_set$Type==\"spam\")\n",
    "ham<-subset(train_set, train_set$Type==\"ham\")\n",
    "par(mfrow=c(2,2))\n",
    "wordcloud(spam$Text,max.words = 40, scale=c(3,0.5))\n",
    "wordcloud(ham$Text,max.words = 40, scale=c(3,0.5))"
   ]
  },
  {
   "cell_type": "markdown",
   "metadata": {},
   "source": [
    "Finding the most frequent words in corpus. Here frquency is given as 5."
   ]
  },
  {
   "cell_type": "code",
   "execution_count": 124,
   "metadata": {
    "collapsed": true
   },
   "outputs": [],
   "source": [
    "sms_train_freq<-findFreqTerms(sms_train_dtm, 5)"
   ]
  },
  {
   "cell_type": "markdown",
   "metadata": {},
   "source": [
    "Doing the sae preprocessing on test set"
   ]
  },
  {
   "cell_type": "code",
   "execution_count": 125,
   "metadata": {
    "collapsed": false
   },
   "outputs": [],
   "source": [
    "sms_test_corpus<-VCorpus(VectorSource(x=test_set$Text))\n",
    "clean_test_corpus<-tm_map(sms_test_corpus, content_transformer(FUN = tolower))\n",
    "clean_test_corpus<-tm_map(clean_test_corpus, content_transformer(FUN = removeNumbers))\n",
    "clean_test_corpus<-tm_map(clean_test_corpus, content_transformer(FUN = replacePunctuation))\n",
    "clean_test_corpus<-tm_map(clean_test_corpus, removeWords, stopwords())\n",
    "clean_test_corpus<-tm_map(clean_test_corpus, stemDocument)\n",
    "clean_test_corpus<-tm_map(clean_test_corpus, stripWhitespace)\n",
    "clean_test_corpus <- tm_map(clean_test_corpus,PlainTextDocument)\n",
    "sms_test_dtm<-DocumentTermMatrix(clean_test_corpus)\n",
    "sms_test_labels<-sms_corp[4179:5574, ]$Type"
   ]
  },
  {
   "cell_type": "markdown",
   "metadata": {},
   "source": [
    "Visualizing the test corpus"
   ]
  },
  {
   "cell_type": "code",
   "execution_count": 126,
   "metadata": {
    "collapsed": false
   },
   "outputs": [
    {
     "data": {
      "image/png": "[encoded data removed]",
      "text/plain": [
       "plot without title"
      ]
     },
     "metadata": {},
     "output_type": "display_data"
    }
   ],
   "source": [
    "wordcloud(clean_test_corpus, min.freq=50, random.order = FALSE)"
   ]
  },
  {
   "cell_type": "code",
   "execution_count": 127,
   "metadata": {
    "collapsed": false
   },
   "outputs": [
    {
     "data": {
      "image/png": "[encoded data removed]",
      "text/plain": [
       "plot without title"
      ]
     },
     "metadata": {},
     "output_type": "display_data"
    }
   ],
   "source": [
    "spam<-subset(test_set, test_set$Type==\"spam\")\n",
    "ham<-subset(test_set, test_set$Type==\"ham\")\n",
    "par(mfrow=c(2,2))\n",
    "wordcloud(spam$Text,max.words = 40, scale=c(3,0.5))\n",
    "wordcloud(ham$Text,max.words = 40, scale=c(3,0.5))"
   ]
  },
  {
   "cell_type": "code",
   "execution_count": 128,
   "metadata": {
    "collapsed": true
   },
   "outputs": [],
   "source": [
    "sms_test_freq<-findFreqTerms(sms_test_dtm, 5)#Finding the frequent terms in test corpus"
   ]
  },
  {
   "cell_type": "code",
   "execution_count": 129,
   "metadata": {
    "collapsed": true
   },
   "outputs": [],
   "source": [
    "#Considering the columns that occured frequently \n",
    "sms_train<-sms_train_dtm[, sms_train_freq]\n",
    "sms_test<-sms_test_dtm[, sms_test_freq]"
   ]
  },
  {
   "cell_type": "code",
   "execution_count": 130,
   "metadata": {
    "collapsed": true
   },
   "outputs": [],
   "source": [
    "#Since the document term matrix consists of 0 and 1, it should be chnaged to categorical \n",
    "#varibles to build model using NaiveBayes\n",
    "convert_counts<-function(x){\n",
    "  x<-ifelse(x>0, 'Yes', 'No')\n",
    "}"
   ]
  },
  {
   "cell_type": "code",
   "execution_count": 131,
   "metadata": {
    "collapsed": true
   },
   "outputs": [],
   "source": [
    "#Applying the above function on Document Term Matrix\n",
    "sms_train_converted<-apply(sms_train, MARGIN = 2, convert_counts)\n",
    "sms_test_converted<-apply(sms_test, MARGIN = 2, convert_counts)"
   ]
  },
  {
   "cell_type": "code",
   "execution_count": 103,
   "metadata": {
    "collapsed": true
   },
   "outputs": [],
   "source": [
    "library(e1071)"
   ]
  },
  {
   "cell_type": "code",
   "execution_count": 132,
   "metadata": {
    "collapsed": false
   },
   "outputs": [],
   "source": [
    "spam_model <- naiveBayes(sms_train_converted,sms_train_labels)#Applying naivebayes method."
   ]
  },
  {
   "cell_type": "code",
   "execution_count": 133,
   "metadata": {
    "collapsed": true
   },
   "outputs": [],
   "source": [
    "sms_predicted<-predict(spam_model, sms_test_converted)"
   ]
  },
  {
   "cell_type": "code",
   "execution_count": 135,
   "metadata": {
    "collapsed": false
   },
   "outputs": [
    {
     "name": "stdout",
     "output_type": "stream",
     "text": [
      "\n",
      " \n",
      "   Cell Contents\n",
      "|-------------------------|\n",
      "|                       N |\n",
      "| Chi-square contribution |\n",
      "|           N / Row Total |\n",
      "|           N / Col Total |\n",
      "|         N / Table Total |\n",
      "|-------------------------|\n",
      "\n",
      " \n",
      "Total Observations in Table:  1396 \n",
      "\n",
      " \n",
      "             | actual \n",
      "   predicted |       ham |      spam | Row Total | \n",
      "-------------|-----------|-----------|-----------|\n",
      "         ham |      1204 |        19 |      1223 | \n",
      "             |    18.546 |   123.710 |           | \n",
      "             |     0.984 |     0.016 |     0.876 | \n",
      "             |     0.992 |     0.104 |           | \n",
      "             |     0.862 |     0.014 |           | \n",
      "-------------|-----------|-----------|-----------|\n",
      "        spam |        10 |       163 |       173 | \n",
      "             |   131.110 |   874.549 |           | \n",
      "             |     0.058 |     0.942 |     0.124 | \n",
      "             |     0.008 |     0.896 |           | \n",
      "             |     0.007 |     0.117 |           | \n",
      "-------------|-----------|-----------|-----------|\n",
      "Column Total |      1214 |       182 |      1396 | \n",
      "             |     0.870 |     0.130 |           | \n",
      "-------------|-----------|-----------|-----------|\n",
      "\n",
      " \n"
     ]
    }
   ],
   "source": [
    "library(gmodels)\n",
    "CrossTable(x=sms_predicted, y=sms_test_labels, dnn=c(\"predicted\", \"actual\"))"
   ]
  },
  {
   "cell_type": "markdown",
   "metadata": {},
   "source": [
    "To Increase the model performance, Laplace estimator is introduced into model. Since Naivebayes considers all the independent variables into account, ther might be a chance the likelyhood can be zero and hence the probability of entire term will be zero. So laplace estimates introduces a default value to variables."
   ]
  },
  {
   "cell_type": "code",
   "execution_count": 136,
   "metadata": {
    "collapsed": true
   },
   "outputs": [],
   "source": [
    "laplace_included_model<-naiveBayes(sms_train_converted,sms_train_labels, laplace = 1)"
   ]
  },
  {
   "cell_type": "code",
   "execution_count": 139,
   "metadata": {
    "collapsed": false
   },
   "outputs": [],
   "source": [
    "spam_predicted_laplase<-predict(laplace_included_model, sms_test_converted)"
   ]
  },
  {
   "cell_type": "code",
   "execution_count": 142,
   "metadata": {
    "collapsed": false
   },
   "outputs": [
    {
     "name": "stdout",
     "output_type": "stream",
     "text": [
      "\n",
      " \n",
      "   Cell Contents\n",
      "|-------------------------|\n",
      "|                       N |\n",
      "| Chi-square contribution |\n",
      "|           N / Row Total |\n",
      "|           N / Col Total |\n",
      "|         N / Table Total |\n",
      "|-------------------------|\n",
      "\n",
      " \n",
      "Total Observations in Table:  1396 \n",
      "\n",
      " \n",
      "             | actual \n",
      "   predicted |       ham |      spam | Row Total | \n",
      "-------------|-----------|-----------|-----------|\n",
      "         ham |      1206 |        19 |      1225 | \n",
      "             |    18.585 |   123.967 |           | \n",
      "             |     0.984 |     0.016 |     0.878 | \n",
      "             |     0.993 |     0.104 |           | \n",
      "             |     0.864 |     0.014 |           | \n",
      "-------------|-----------|-----------|-----------|\n",
      "        spam |         8 |       163 |       171 | \n",
      "             |   133.137 |   888.066 |           | \n",
      "             |     0.047 |     0.953 |     0.122 | \n",
      "             |     0.007 |     0.896 |           | \n",
      "             |     0.006 |     0.117 |           | \n",
      "-------------|-----------|-----------|-----------|\n",
      "Column Total |      1214 |       182 |      1396 | \n",
      "             |     0.870 |     0.130 |           | \n",
      "-------------|-----------|-----------|-----------|\n",
      "\n",
      " \n"
     ]
    }
   ],
   "source": [
    "CrossTable(x=spam_predicted_laplase, y=sms_test_labels, dnn=c(\"predicted\", \"actual\"))"
   ]
  },
  {
   "cell_type": "markdown",
   "metadata": {},
   "source": [
    "By applying the laplace estimator, number of false negatives are reduced."
   ]
  },
  {
   "cell_type": "code",
   "execution_count": null,
   "metadata": {
    "collapsed": true
   },
   "outputs": [],
   "source": []
  }
 ],
 "metadata": {
  "kernelspec": {
   "display_name": "R",
   "language": "R",
   "name": "ir"
  },
  "language_info": {
   "codemirror_mode": "r",
   "file_extension": ".r",
   "mimetype": "text/x-r-source",
   "name": "R",
   "pygments_lexer": "r",
   "version": "3.3.2"
  }
 },
 "nbformat": 4,
 "nbformat_minor": 1
}
